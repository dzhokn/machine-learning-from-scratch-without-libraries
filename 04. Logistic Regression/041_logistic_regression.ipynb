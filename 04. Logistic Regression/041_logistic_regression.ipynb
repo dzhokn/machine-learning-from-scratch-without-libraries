{
 "cells": [
  {
   "cell_type": "markdown",
   "metadata": {},
   "source": [
    "## Logistic Regression\n",
    "Logistic Regression is like a linear regression but used for another type of problems. Linear regression predicts a **continuous** outcome, while logistic regression predicts a **categorical** (often binary) outcome. Therefore, logistic regressions are used for **classification** problems. \n",
    "\n",
    "In essence:\n",
    "* If you need to predict a number, use linear regression.\n",
    "* If you need to predict a category or probability of an event, use logistic regression.\n",
    "\n",
    "### Why is it called regression if it is a classification algorithm?\n",
    "The term “regression” in logistic regression refers to the fact that the model is trying to ****predict the probability** of a categorical outcome, such as whether a basketball player will win in 1x1 match.\n",
    "\n",
    "In logistic regression, the probability of the outcome is represented by a logistic function. The logistic function is a sigmoid curve that has a range of values from 0 to 1. This means that the predicted probability of the outcome can be any value between 0 and 1."
   ]
  },
  {
   "cell_type": "markdown",
   "metadata": {},
   "source": [
    "## Implementation\n",
    "\n",
    "### 1. Calculate Y\n",
    "In logistic regression, we aim to model the probability of a binary outcome (e.g., $0$ or $1$) based on input features. The hypothesis function of logistic regression is defined as follows:\n",
    "$$ p(y = 1) = \\frac{1}{(1 + \\exp(-(\\beta_0 + \\beta_1x_1 + \\beta_2x_2)))} $$\n",
    "\n",
    "where:\n",
    "* $p(y = 1)$ is the probability of the binary outcome being equal to $1$\n",
    "* $\\beta_0$ is the intercept\n",
    "* $\\beta_1$ and $\\beta_2$ are the coefficients for the predictor variables $x_1$ and $x_2$\n",
    "\n",
    "\n",
    "\n",
    "<center><img src=\"img/sigmoid-curve.png\" alt=\"Sigmoid curve\" width=\"500\" height=\"300\" /></center>\n",
    "<p style=\"text-align: center; font-size: small;\"><i><b>Figure 1.</b> Sigmoid curve (between 0 and 1)</i></p>"
   ]
  },
  {
   "cell_type": "code",
   "execution_count": 121,
   "metadata": {},
   "outputs": [],
   "source": [
    "import numpy as np\n",
    "import matplotlib.pyplot as plt"
   ]
  },
  {
   "cell_type": "code",
   "execution_count": 122,
   "metadata": {},
   "outputs": [],
   "source": [
    "def compute_y(x: np.ndarray, w: np.ndarray, b: float) -> float:\n",
    "    \"\"\"\n",
    "    Compute the sigmoid of z\n",
    "\n",
    "    Args:\n",
    "      z (float)     : A scalar\n",
    "\n",
    "    Returns:\n",
    "      y (float)     : sigmoid(z)\n",
    "    \"\"\"\n",
    "    z = __compute_z(x, w, b)\n",
    "    return __sigmoid(z)\n",
    "\n",
    "def __sigmoid(z: float) -> float:\n",
    "    return 1 / (1 + np.exp(-z)) # Sigmoid function which returns a value between 0 and 1\n",
    "\n",
    "def __compute_z(x: np.ndarray, w: np.ndarray, b: float) -> float:\n",
    "    return b + w @ x # (1, n) * (n, 1) = (1,) , where n is the number of features"
   ]
  },
  {
   "cell_type": "markdown",
   "metadata": {},
   "source": [
    "### 2. Compute loss\n",
    "#### Why MSE is Not Suitable for Logistic Regression\n",
    "In classification tasks, where the output is a probability between $0$ and $1$ we use the **sigmoid function** to predict these probabilities.\n",
    "\n",
    "If we try to use the **Mean Squared Error** for Logistic Regression, we would face several problems:\n",
    "* **Nonlinearity of the Sigmoid Function**: The sigmoid function introduces nonlinearity, and when we plug it into the MSE formula, the cost function becomes non-convex. This means it could have **multiple local minima**, making it harder for Gradient Descent to find the optimal solution.\n",
    "* **Squaring Errors**: The MSE squares the diff between the predicted probability and the actual class label ($0$ or $1$). When the prediction is far from the actual value, the error gets magnified. However, because the outputs of Logistic Regression are probabilities (values between $0$ and $1$), squaring these small diffs can make it difficult for the model to learn effectively.\n",
    "\n",
    "#### The Solution: Log Loss (Cross-Entropy)\n",
    "Instead of MSE, Logistic Regression uses a different cost function called Log Loss (or Cross-Entropy). Log Loss penalizes incorrect predictions more effectively than MSE and helps the model learn to improve. It works by taking the **logarithm of predicted probabilities**, allowing the model to focus on making confident predictions closer to the true class labels.\n",
    "\n",
    "The loss is the diff between predicted and actual $y$ values.\n",
    "$$ J = - \\sum y log(\\hat{y}) + (1-y) log(1-\\hat{y}) $$"
   ]
  },
  {
   "cell_type": "code",
   "execution_count": 123,
   "metadata": {},
   "outputs": [],
   "source": [
    "def compute_loss(X: np.ndarray, Y: np.ndarray, w: np.ndarray, b: float) -> float:\n",
    "  \"\"\"Calculates the loss (cost) for a given X (set of vectors), Y (target values), w (weights), and b (bias).\"\"\" \n",
    "  m = X.shape[0]        # The number of examples (rows) in the training set\n",
    "  loss = 0.\n",
    "\n",
    "  for i in range(m):\n",
    "    y_pred = compute_y(X[i], w, b)\n",
    "    loss += -(Y[i] * np.log(y_pred) + (1-Y[i]) * np.log(1-y_pred)) # Cross-Entropy\n",
    "  return loss / m"
   ]
  },
  {
   "cell_type": "markdown",
   "metadata": {},
   "source": [
    "### 3. Gradient descent\n",
    "We'll do a gradient descent in order to optimize the weights.\n",
    "\n",
    "\n",
    "$$ \\frac{dJ}{dw} = X^T (\\hat{y} - y) $$\n",
    "\n",
    "$$ \\frac{dJ}{db} = \\sum (\\hat{y} - y) $$"
   ]
  },
  {
   "cell_type": "code",
   "execution_count": 124,
   "metadata": {},
   "outputs": [],
   "source": [
    "def compute_gradient(X: np.ndarray, Y: np.ndarray, w: np.ndarray, b: float) -> tuple[np.ndarray, float]: \n",
    "    \"\"\"\n",
    "    Computes the gradient for logistic regression with multiple features.\n",
    "\n",
    "    Args:\n",
    "      X (ndarray (m,n))       : input data, m rows with n features\n",
    "      Y (ndarray (m,))        : target values\n",
    "      w (ndarray (n,))        : model weights  \n",
    "      b (scalar)              : model bias\n",
    "      \n",
    "    Returns:\n",
    "      dj_dw (ndarray (n,))    : The gradient of the cost w.r.t. the parameters w. \n",
    "      dj_db (scalar)          : The gradient of the cost w.r.t. the parameter b. \n",
    "    \"\"\"\n",
    "    # Calculate all the predicted values\n",
    "    m = X.shape[0]               # number of rows\n",
    "    Y_pred = np.zeros(m)\n",
    "    for i in range(m):\n",
    "      Y_pred[i] = compute_y(X[i], w, b)\n",
    "    \n",
    "    dj_dw = X.T @ (Y_pred - Y) / m\n",
    "    dj_db = np.sum(Y_pred - Y) / m\n",
    "\n",
    "    return dj_db, dj_dw"
   ]
  },
  {
   "cell_type": "markdown",
   "metadata": {},
   "source": [
    "### 4. Train\n",
    "\n",
    "After each iteration of the gradient descent we need to update the weights and store the current loss."
   ]
  },
  {
   "cell_type": "code",
   "execution_count": 125,
   "metadata": {},
   "outputs": [],
   "source": [
    "def fit(X: np.ndarray, Y: np.ndarray, weights: np.ndarray, bias: float, learn_rate: float, epochs: int): \n",
    "    \"\"\"\n",
    "    Performs batch gradient descent to learn w and b. Updates w and b by taking \n",
    "    num_iters gradient steps with specified learning rate.\n",
    "\n",
    "    Args:\n",
    "      X (ndarray (m,n))       : input data, m examples with n features\n",
    "      Y (ndarray (m,))        : target values\n",
    "      weights (ndarray (n,))  : initial model parameters  \n",
    "      bias (float)            : initial model parameter\n",
    "      learn_rate (float)      : Learning rate\n",
    "      epochs (int)            : number of iterations to run gradient descent\n",
    "\n",
    "    Returns:\n",
    "      weights (ndarray (n,))  : Updated values of parameters \n",
    "      bias (float)            : Updated value of parameter \n",
    "      losses (list)           : History of losses\n",
    "      \"\"\"\n",
    "    losses = []            # An array to store history of losses\n",
    "\n",
    "    for _ in range(epochs):\n",
    "        # Calculate the gradient for these `w` and `b`\n",
    "        dj_db, dj_dw = compute_gradient(X, Y, weights, bias)\n",
    "\n",
    "        # Update `w` and `b` based on the gradient (up or down) and the specified learning rate\n",
    "        weights -= learn_rate * dj_dw   # vector operation (w and dj_dw are vectors with the same size)\n",
    "        bias -= learn_rate * dj_db\n",
    "\n",
    "        # Save loss at each iteration\n",
    "        losses.append( compute_loss(X, Y, weights, bias) )\n",
    "\n",
    "        # Print the cost after every 10% of the iterations\n",
    "        if _ % 1000 == 0:\n",
    "            print(f\"Iteration {_} - Loss: {losses[-1]:.4f}\")\n",
    "\n",
    "    return weights, bias, losses # return final w,b and J history for graphing"
   ]
  },
  {
   "cell_type": "markdown",
   "metadata": {},
   "source": [
    "### 5. Predict\n",
    "We need a method that makes binary predictions. To convert the predicted probabilities into binary predictions, a threshold ($0.5$) is applied."
   ]
  },
  {
   "cell_type": "code",
   "execution_count": 126,
   "metadata": {},
   "outputs": [],
   "source": [
    "def predict(x: np.ndarray, w: np.ndarray, b: float) -> float:\n",
    "    '''\n",
    "    Predict the probability of a binary outcome based on the input features.\n",
    "\n",
    "    Args:\n",
    "      x (ndarray): A vector (observation)\n",
    "\n",
    "    Returns:\n",
    "      y_pred (int): 1 if sigmoid(z) > 0.5 else 0\n",
    "    '''\n",
    "    y_pred = compute_y(x, w, b)\n",
    "    return 1 if y_pred > 0.5 else 0"
   ]
  },
  {
   "cell_type": "markdown",
   "metadata": {},
   "source": [
    "### 6. Calculate model accuracy\n",
    "Compare the predictions of a model to the actual outcome values."
   ]
  },
  {
   "cell_type": "code",
   "execution_count": 127,
   "metadata": {},
   "outputs": [],
   "source": [
    "def compute_accuracy(X: np.ndarray, Y: np.ndarray, w: np.ndarray, b: float) -> float:\n",
    "    '''\n",
    "    Compute the accuracy of the model.\n",
    "\n",
    "    Args:\n",
    "      X (ndarray): A dataset of input features\n",
    "      Y (ndarray): A dataset of target values\n",
    "      w (ndarray): A vector of weights\n",
    "      b (float): A scalar\n",
    "    '''\n",
    "    m = X.shape[0]\n",
    "    correct_predictions = 0\n",
    "    for i in range(m):\n",
    "        y_pred = predict(X[i], w, b)\n",
    "        if y_pred == Y[i]:\n",
    "            correct_predictions += 1\n",
    "    return correct_predictions / m"
   ]
  },
  {
   "cell_type": "markdown",
   "metadata": {},
   "source": [
    "### 7. Demo\n",
    "Let's execute a demo. Again, by using the sample data for monthly salaries in the ML industry.\n"
   ]
  },
  {
   "cell_type": "code",
   "execution_count": 128,
   "metadata": {},
   "outputs": [
    {
     "name": "stdout",
     "output_type": "stream",
     "text": [
      "Iteration 0 - Loss: 0.6722\n",
      "Iteration 1000 - Loss: 0.5479\n",
      "Iteration 2000 - Loss: 0.5115\n",
      "Iteration 3000 - Loss: 0.4944\n",
      "Iteration 4000 - Loss: 0.4850\n",
      "Iteration 5000 - Loss: 0.4794\n",
      "Iteration 6000 - Loss: 0.4758\n",
      "Iteration 7000 - Loss: 0.4734\n",
      "Iteration 8000 - Loss: 0.4717\n",
      "Iteration 9000 - Loss: 0.4706\n",
      "Iteration 10000 - Loss: 0.4697\n",
      "Iteration 11000 - Loss: 0.4691\n",
      "Iteration 12000 - Loss: 0.4686\n",
      "Iteration 13000 - Loss: 0.4683\n",
      "Iteration 14000 - Loss: 0.4680\n",
      "Iteration 15000 - Loss: 0.4678\n",
      "Iteration 16000 - Loss: 0.4677\n",
      "Iteration 17000 - Loss: 0.4675\n",
      "Iteration 18000 - Loss: 0.4674\n",
      "Iteration 19000 - Loss: 0.4674\n",
      "\n",
      "Final weights: [ 0.51722429 -0.00917398] and bias: -0.03557769704347439\n",
      "Accuracy: 67%\n"
     ]
    },
    {
     "data": {
      "image/png": "[encoded data removed]",
      "text/plain": [
       "<Figure size 640x480 with 1 Axes>"
      ]
     },
     "metadata": {},
     "output_type": "display_data"
    }
   ],
   "source": [
    "# X1 = Basketball players - years of experience\n",
    "X1 = [1.2, 1.3, 1.5, 1.8, 2, 2.1, 2.2, 2.5, 2.8, 2.9, 3.1, 3.3, 3.5, 3.8, 4, 4.1, 4.5, 4.9, 5, 5.5, 6, 6.5, 7, 7.5, 8, 8.5, 9, 10, 11, 12, 13, 14, 15]\n",
    "# X2 = Height (cm)\n",
    "X2 = [181, 190, 202, 185, 178, 189, 204, 192, 183, 184, 195, 196, 197, 188, 189, 190, 191, 182, 183, 190, 185, 186, 197, 191, 189, 200, 186, 189, 191, 190, 195, 193, 187, 192, 190, 187]\n",
    "# Y = Win or Lose\n",
    "Y = [0, 0, 1, 0, 0, 0, 1, 1, 0, 0, 1, 1, 1, 0, 0, 0, 1, 0, 0, 1, 1, 1, 1, 1, 1, 1, 1, 1, 1, 1, 1, 1, 1]\n",
    "\n",
    "# Merge the X1 and X2 into a single X\n",
    "X = [[x1, x2] for x1, x2 in zip(X1, X2)]\n",
    "\n",
    "# Convert the X, Y to a numpy arrays\n",
    "X = np.array(X)\n",
    "Y = np.array(Y)\n",
    "\n",
    "# Configure gradient descent settings\n",
    "learn_rate = 0.0002   # learning rate (step size)\n",
    "epochs = 20000   # number of iterations (epochs)\n",
    "weights = np.zeros(X.shape[1])\n",
    "bias = 0\n",
    "\n",
    "weights, bias, losses = fit(X, Y, weights, bias, learn_rate, epochs)\n",
    "\n",
    "print(f\"\\nFinal weights: {weights} and bias: {bias}\")\n",
    "print(f\"Accuracy: {compute_accuracy(X, Y, weights, bias) * 100:.0f}%\")\n",
    "\n",
    "# Plot the loss function\n",
    "plt.plot(np.arange(epochs), losses)\n",
    "plt.show()\n"
   ]
  },
  {
   "cell_type": "markdown",
   "metadata": {},
   "source": [
    "## References\n",
    "* (Understanding Logistic Regression: A Beginner’s Guide)[https://medium.com/@novus_afk/understanding-logistic-regression-a-beginners-guide-73f148866910]\n",
    "* (Logistic Regression)[https://medium.com/@RobuRishabh/logistic-regression-c2d2bac7afd8]"
   ]
  }
 ],
 "metadata": {
  "kernelspec": {
   "display_name": "Python 3",
   "language": "python",
   "name": "python3"
  },
  "language_info": {
   "codemirror_mode": {
    "name": "ipython",
    "version": 3
   },
   "file_extension": ".py",
   "mimetype": "text/x-python",
   "name": "python",
   "nbconvert_exporter": "python",
   "pygments_lexer": "ipython3",
   "version": "3.13.2"
  }
 },
 "nbformat": 4,
 "nbformat_minor": 2
}
