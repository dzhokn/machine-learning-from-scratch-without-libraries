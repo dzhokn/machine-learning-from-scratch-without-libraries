{
 "cells": [
  {
   "cell_type": "markdown",
   "metadata": {},
   "source": [
    "## Polynomial Regression\n",
    "Polynomial Regression is a type of regression analysis in which the relationship between the independent variable $x$ and the dependent variable $y$ is modeled as an $n$ th-degree polynomial. It is an extension of linear regression, but capturing **non-linear** relationships between $x$ and $y$.\n",
    "\n",
    "The degree of the polynomial equation determines the level of complexity in the relationship, but rarely higher degrees are being used (2nd degree is most common).\n",
    "\n",
    "### Advantages\n",
    "* **Captures Nonlinearities**: Polynomial regression is perfect when you know your data has some curvature. It picks up on those patterns that linear regression simply can’t.\n",
    "\n",
    "* **Flexibility**: The more degrees of polynomial you add, the more flexible your model becomes. It can handle almost any shape.\n",
    "\n",
    "* **Multiple Variables**: With multiple variables, polynomial regression allows you to model not just the relationships between the variables and the outcome but also the interactions between the variables themselves.\n",
    "\n",
    "\n",
    "### Disdvantages\n",
    "* **Overfitting**: More flexibility isn’t always better. You might end up with a model that fits your training data like a glove but fails miserably on new data. It’s like using a magnifying glass to find every tiny detail when a broader view would’ve done the job.\n",
    "\n",
    "* **Complexity**: Polynomial regression models can become complex and hard to interpret as you increase the degree of the polynomial or the number of variables. At some point, it starts to feel like more art than science.\n",
    "\n",
    "* **Computational Cost**: Higher degrees of polynomials and multiple variables can increase the computational complexity. You may need to be careful about how much flexibility you introduce, especially if you’re working with large datasets.\n",
    "\n",
    "## Equation\n",
    "The general form of a Polynomial Regression equation is:\n",
    "$$ y = \\beta_0 + \\beta_1 x_1 + \\beta_2 x_1^2 + ... + \\beta_n x_1^n $$\n",
    "\n",
    "where $y$ is the dependent variable, $x$ is the independent variable and $\\beta_0$, $\\beta_1$, $\\beta_2$, ..., $\\beta_n$ are the coefficients of the polynomial equation, $n$ is the degree of the polynomial equation.\n",
    "\n",
    "The goal is to find the values of these coefficients that provide the best fit to the observed data. The resulting polynomial equation can then be used to make predictions for new values of $x$.\n",
    "\n",
    "### Equation of second degree\n",
    "\n",
    "The equation of second degree and two features would look like this:\n",
    "$$ y = \\beta_0 + \\beta_1 x_1 + \\beta_2 x_2+ \\beta_3 x_1 x_2  + \\beta_4 x_1^2 + \\beta_5 x_2^2 $$"
   ]
  },
  {
   "cell_type": "markdown",
   "metadata": {},
   "source": [
    "## Implementation"
   ]
  },
  {
   "cell_type": "code",
   "execution_count": 1,
   "metadata": {},
   "outputs": [],
   "source": [
    "import numpy as np\n",
    "import matplotlib.pyplot as plt"
   ]
  },
  {
   "cell_type": "markdown",
   "metadata": {},
   "source": [
    "### 1. Transform vector to polynomial\n",
    "Firstly, we'll need a method to transform $x_1, x_2$ into a vector of all powered feature values.\n",
    "\n",
    "$$ (x_1, x_2) => (1, x_1, x_2,x_1 x_2, x_1^2, x_2^2)$$"
   ]
  },
  {
   "cell_type": "code",
   "execution_count": 2,
   "metadata": {},
   "outputs": [
    {
     "name": "stdout",
     "output_type": "stream",
     "text": [
      "[1, np.int64(2), np.int64(5), np.int64(10), np.int64(4), np.int64(25)]\n",
      "[1, np.int64(3), np.int64(11), np.int64(33), np.int64(9), np.int64(121)]\n"
     ]
    }
   ],
   "source": [
    "def transform_to_2nd_degree_polynomial(x: np.ndarray) -> np.ndarray:\n",
    "    '''\n",
    "    Transforms the input vector of feature values (x_1, x_2, ..., x_n) to a polynomial vector of degree 2.\n",
    "\n",
    "    Args:\n",
    "        x           : np.ndarray of shape (n, 1), where n is the number of features\n",
    "\n",
    "    Returns:\n",
    "        [1, x_1, x_2, ..., x_n, x_1*x_2, x_1*x_3, ..., x_n-1*x_n, x_1^2, x_2^2, ..., x_n^2]\n",
    "    '''\n",
    "    n = x.shape[0] # Number of features\n",
    "    # STEP 1: We start with 1, because the polynomial always has 1 as the first term\n",
    "    terms = [1]\n",
    "    # STEP 2: Now we add all the first degree terms (x_i)\n",
    "    for i in range(n):\n",
    "        terms.append(x[i])\n",
    "    # STEP 3: Now we add all the combinations of the first degree terms (x_i * x_j).\n",
    "    for i in range(n):\n",
    "        for j in range(i+1, n): # We start from i+1 to avoid duplicates\n",
    "            terms.append(x[i] * x[j])\n",
    "    # STEP 4: Now we add all the second degree terms (x_i^2)\n",
    "    for i in range(n):\n",
    "        terms.append(x[i]**2)\n",
    "    return terms\n",
    "\n",
    "X = np.array([[2, 5], [3, 11]])\n",
    "for x in X:\n",
    "    X_poly = transform_to_2nd_degree_polynomial(x)\n",
    "    print(X_poly)"
   ]
  },
  {
   "cell_type": "markdown",
   "metadata": {},
   "source": [
    "### 2. Transform dataset to polynomials\n",
    "Now, let's upgrade the transformation abstraction to support not single observations, but a whole dataset."
   ]
  },
  {
   "cell_type": "code",
   "execution_count": 3,
   "metadata": {},
   "outputs": [
    {
     "data": {
      "text/plain": [
       "array([[  1,   2,   5,  10,   4,  25],\n",
       "       [  1,   3,  11,  33,   9, 121]])"
      ]
     },
     "execution_count": 3,
     "metadata": {},
     "output_type": "execute_result"
    }
   ],
   "source": [
    "def transform_to_2nd_degree_matrix(X: np.ndarray) -> np.ndarray:\n",
    "    output_matrix = []\n",
    "    for x in X:\n",
    "        X_poly = transform_to_2nd_degree_polynomial(x)\n",
    "        output_matrix.append(X_poly)\n",
    "    return np.array(output_matrix)\n",
    "\n",
    "X = np.array([[2, 5], [3, 11]])\n",
    "transform_to_2nd_degree_matrix(X)"
   ]
  },
  {
   "cell_type": "markdown",
   "metadata": {},
   "source": [
    "### 3. Initialize weights\n",
    "Now, we need to initialize the weights. For simplicity we could just fill it with random numbers."
   ]
  },
  {
   "cell_type": "code",
   "execution_count": 4,
   "metadata": {},
   "outputs": [
    {
     "data": {
      "text/plain": [
       "array([ 1.15424125,  1.60039539,  0.77795076,  1.3671054 , -0.84867946,\n",
       "        1.04192856])"
      ]
     },
     "execution_count": 4,
     "metadata": {},
     "output_type": "execute_result"
    }
   ],
   "source": [
    "def initialize_weights(num_features: int):\n",
    "    '''\n",
    "    Initializes the weights of the polynomial regression model. The number of weights depend on \n",
    "    the number of features and the degree of the polynomial.\n",
    "\n",
    "    Args:\n",
    "        num_features        : int - number of features\n",
    "\n",
    "    Returns:\n",
    "        weights             : np.ndarray - weights of the polynomial regression model\n",
    "    '''\n",
    "    poly_sizes = {\n",
    "        1: 3,\n",
    "        2: 6,\n",
    "        3: 10,\n",
    "        4: 15,\n",
    "        5: 21,\n",
    "        6: 28 # The formula is [1 + num_features + num_features + (num_features choose 2)]\n",
    "    }\n",
    "    # Determine the number of weights based on the number of features.\n",
    "    weight_size = poly_sizes[num_features]\n",
    "    # Initialize the weights with random values.\n",
    "    weights = np.random.randn(weight_size)\n",
    "    return weights\n",
    "\n",
    "initialize_weights(2)"
   ]
  },
  {
   "cell_type": "markdown",
   "metadata": {},
   "source": [
    "### 4. Gradient descent\n",
    "The **Polynomial regression** can identify the optimal coefficients using two different methods: the **normal equation** and **gradient descent**. In current notebook, we'll implement the **gradient descent** approach."
   ]
  },
  {
   "cell_type": "code",
   "execution_count": 5,
   "metadata": {},
   "outputs": [],
   "source": [
    "\n",
    "def train_iteration(X: np.ndarray, Y: np.ndarray, learn_rate: float, weights: np.ndarray):\n",
    "    '''\n",
    "    Trains the polynomial regression model for a single iteration using the gradient descent algorithm.\n",
    "    '''\n",
    "    # Transform the flat observations matrix to a polynomial matrix\n",
    "    X_poly = transform_to_2nd_degree_matrix(X) # (m, 6)\n",
    "    # Calculate the predicted values\n",
    "    Y_pred = np.dot(X_poly, weights) # (m,6) @ (6,1) = (m, 1)\n",
    "    # Calculate the error\n",
    "    error = Y_pred - Y # (m, 1) - (m, 1) = (m, 1)\n",
    "    # Update the weights\n",
    "    weights -= learn_rate * (X_poly.T @ error) # (6,m) @ (m,1) = (6,1)\n",
    "    # Return the updated weights\n",
    "    return weights, np.sum(error**2)/X.shape[0]\n",
    "    \n",
    "def train(X: np.ndarray, Y: np.ndarray, learn_rate: float, epochs: int):\n",
    "    '''\n",
    "    Trains the polynomial regression model.\n",
    "    '''\n",
    "    num_features = X.shape[1] # Number of features\n",
    "    weights = initialize_weights(num_features)\n",
    "    losses = []\n",
    "    for _ in range(epochs):\n",
    "        weights, loss = train_iteration(X, Y, learn_rate, weights)\n",
    "        losses.append(loss)\n",
    "        if _ % 100 == 0:\n",
    "            print(f\"Iteration {_} - Loss: {loss}\")\n",
    "    return weights, losses"
   ]
  },
  {
   "cell_type": "markdown",
   "metadata": {},
   "source": [
    "### 5. Demo\n",
    "Let's execute a demo. Again - with the sample data for monthly salaries in the ML industry."
   ]
  },
  {
   "cell_type": "code",
   "execution_count": 6,
   "metadata": {},
   "outputs": [
    {
     "name": "stdout",
     "output_type": "stream",
     "text": [
      "Iteration 0 - Loss: 19645.009713669326\n",
      "Iteration 100 - Loss: 6.813209853339283\n",
      "Iteration 200 - Loss: 2.1406051585898664\n",
      "Iteration 300 - Loss: 1.727202796159245\n",
      "Iteration 400 - Loss: 1.5849448836467448\n",
      "\n",
      "Final weights:\n",
      "\tb_0    : -0.94\n",
      "\tx_1    : 0.98\n",
      "\tx_2    : 0.49\n",
      "\tx_1*x_2: -0.26\n",
      "\tx_1^2  : 0.06\n",
      "\tx_2^2  : 0.16\n"
     ]
    },
    {
     "data": {
      "image/png": "[encoded data removed]",
      "text/plain": [
       "<Figure size 640x480 with 1 Axes>"
      ]
     },
     "metadata": {},
     "output_type": "display_data"
    }
   ],
   "source": [
    "# X1 = years of experience\n",
    "X1 = [1.2, 1.3, 1.5, 1.8, 2, 2.1, 2.2, 2.5, 2.8, 2.9, 3.1, 3.3, 3.5, 3.8, 4, 4.1, 4.5, 4.9, 5, 5.5, 6, 6.5, 7, 7.5, 8, 8.5, 9, 10, 11, 12, 13, 14, 15]\n",
    "# X2 = level of education \n",
    "X2 = [2, 5, 3, 5, 3, 4, 2, 3, 4, 4, 3, 7, 5, 6, 5, 5, 2, 3, 4, 5, 6, 7, 5, 3, 2, 4, 5, 7, 3, 5, 7, 7, 5]\n",
    "# Y = salary\n",
    "Y = [2900, 3300, 3100, 4200, 3500, 3800, 3300, 3500, 3750, 4000, 3900, 5300, 4420, 5000, 4900, 5200, 3900, 4800, 5700, 6500, 6930, 7500, 7360, 6970, 6800, 7500, 8000, 9500, 11000, 9500, 12300, 13700, 12500]\n",
    "Y = np.array(Y) / 1000 # Normalize the Y values, so we prevent overflows\n",
    "\n",
    "# Merge the X1 and X2 into a single X\n",
    "X = [[x1, x2] for x1, x2 in zip(X1, X2)]\n",
    "\n",
    "# Convert the X, Y to a numpy arrays\n",
    "X = np.array(X)\n",
    "Y = np.array(Y)\n",
    "\n",
    "# Configure gradient descent settings\n",
    "learn_rate = 0.000001   # learning rate (step size)\n",
    "iterations = 500   # number of iterations (epochs)\n",
    "\n",
    "weights, losses = train(X, Y, learn_rate, iterations)\n",
    "\n",
    "print(f\"\\nFinal weights:\")\n",
    "print(f\"\\tb_0    : {weights[0]:.2f}\")\n",
    "print(f\"\\tx_1    : {weights[1]:.2f}\")\n",
    "print(f\"\\tx_2    : {weights[2]:.2f}\")\n",
    "print(f\"\\tx_1*x_2: {weights[3]:.2f}\")\n",
    "print(f\"\\tx_1^2  : {weights[4]:.2f}\")\n",
    "print(f\"\\tx_2^2  : {weights[5]:.2f}\")\n",
    "\n",
    "# Plot the loss function\n",
    "epochs = np.arange(iterations)\n",
    "plt.plot(epochs, losses)\n",
    "plt.show()"
   ]
  },
  {
   "cell_type": "code",
   "execution_count": 7,
   "metadata": {},
   "outputs": [
    {
     "data": {
      "image/png": "[encoded data removed]",
      "text/plain": [
       "<Figure size 640x480 with 1 Axes>"
      ]
     },
     "metadata": {},
     "output_type": "display_data"
    }
   ],
   "source": [
    "# Let's plot the X1 and Y data\n",
    "plt.scatter(X1, Y, color=\"blue\")\n",
    "# Let's plot the predicted values\n",
    "X_poly = transform_to_2nd_degree_matrix(X)\n",
    "Y_pred = np.dot(X_poly, weights)\n",
    "plt.scatter(X1, Y_pred, color=\"red\")\n",
    "plt.show()"
   ]
  },
  {
   "cell_type": "markdown",
   "metadata": {},
   "source": [
    "## References\n",
    "* [Polynomial Regression in Multiple Variables](https://medium.com/@heyamit10/polynomial-regression-in-multiple-variables-74a6dda16b92)"
   ]
  }
 ],
 "metadata": {
  "kernelspec": {
   "display_name": "Python 3",
   "language": "python",
   "name": "python3"
  },
  "language_info": {
   "codemirror_mode": {
    "name": "ipython",
    "version": 3
   },
   "file_extension": ".py",
   "mimetype": "text/x-python",
   "name": "python",
   "nbconvert_exporter": "python",
   "pygments_lexer": "ipython3",
   "version": "3.13.2"
  }
 },
 "nbformat": 4,
 "nbformat_minor": 2
}
